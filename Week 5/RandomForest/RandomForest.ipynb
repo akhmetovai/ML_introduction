{
 "cells": [
  {
   "cell_type": "code",
   "execution_count": null,
   "metadata": {},
   "outputs": [
    {
     "name": "stdout",
     "output_type": "stream",
     "text": [
      "  Sex  Length  Diameter  Height  WholeWeight  ShuckedWeight  VisceraWeight  \\\n",
      "0   M   0.455     0.365   0.095       0.5140         0.2245         0.1010   \n",
      "1   M   0.350     0.265   0.090       0.2255         0.0995         0.0485   \n",
      "2   F   0.530     0.420   0.135       0.6770         0.2565         0.1415   \n",
      "3   M   0.440     0.365   0.125       0.5160         0.2155         0.1140   \n",
      "4   I   0.330     0.255   0.080       0.2050         0.0895         0.0395   \n",
      "\n",
      "   ShellWeight  Rings  \n",
      "0        0.150     15  \n",
      "1        0.070      7  \n",
      "2        0.210      9  \n",
      "3        0.155     10  \n",
      "4        0.055      7  \n"
     ]
    }
   ],
   "source": [
    "import numpy as np\n",
    "import pandas as pd\n",
    "from sklearn.ensemble import RandomForestClassifier\n",
    "from sklearn.ensemble import RandomForestRegressor\n",
    "from sklearn.metrics import r2_score #качество предсказания проверяем с помощью R2, который похож на MSE\n",
    "from sklearn.model_selection import KFold\n",
    "from sklearn.model_selection import cross_val_score\n",
    "\n",
    "# 1. upload data\n",
    "data = pd.read_csv('abalone.csv')\n",
    "\n",
    "print(data.head())\n",
    "\n",
    "# 2. alter string values to ints\n",
    "data['Sex'] = data['Sex'].map(lambda x: 1 if x == 'M' else (-1 if x == 'F' else 0))\n",
    "\n",
    "# 3. Split dataset to features and target value\n",
    "X = data.loc[:, 'Sex':'ShellWeight']\n",
    "y = data['Rings']\n",
    "\n",
    "# 4. fit RandomForestRegressor\n",
    "cv = KFold(n_splits=5, shuffle=True, random_state=1)\n",
    "\n",
    "for i in range(1,51):\n",
    "    clf = RandomForestRegressor(random_state=1, n_estimators=i)\n",
    "    #clf.fit(X, y)\n",
    "    #y_pred = clf.predict(X)\n",
    "    score = round(np.mean(cross_val_score(clf, X, y, cv=cv, scoring='r2')), 4)\n",
    "    #print(i, score)\n",
    "    if score > 0.52:\n",
    "        print('minimum number of trees for 0.52 quality: {i}'.format(i=i+1))#round error\n",
    "        break"
   ]
  }
 ],
 "metadata": {
  "kernelspec": {
   "display_name": "Python 3",
   "language": "python",
   "name": "python3"
  },
  "language_info": {
   "codemirror_mode": {
    "name": "ipython",
    "version": 3
   },
   "file_extension": ".py",
   "mimetype": "text/x-python",
   "name": "python",
   "nbconvert_exporter": "python",
   "pygments_lexer": "ipython3",
   "version": "3.7.1"
  }
 },
 "nbformat": 4,
 "nbformat_minor": 2
}
