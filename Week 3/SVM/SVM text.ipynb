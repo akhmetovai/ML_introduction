{
 "cells": [
  {
   "cell_type": "code",
   "execution_count": 108,
   "metadata": {},
   "outputs": [
    {
     "name": "stdout",
     "output_type": "stream",
     "text": [
      "0\n",
      "1\n",
      "2\n"
     ]
    }
   ],
   "source": [
    "import numpy as np\n",
    "import pandas as pd\n",
    "from sklearn import datasets\n",
    "from sklearn.feature_extraction.text import TfidfVectorizer\n",
    "from sklearn.svm import SVC\n",
    "from sklearn.model_selection import KFold\n",
    "from sklearn.model_selection import GridSearchCV\n",
    "\n",
    "newsgroups = datasets.fetch_20newsgroups(\n",
    "                    subset='all', \n",
    "                    categories=['alt.atheism', 'sci.space']\n",
    "             )\n",
    "print(0)\n",
    "\n",
    "vectorizer = TfidfVectorizer()\n",
    "\n",
    "X = vectorizer.fit_transform(newsgroups['data'])\n",
    "y = newsgroups['target']\n",
    "\n",
    "grid = {'C': np.power(10.0, np.arange(-5, 5))}\n",
    "cv = KFold(n_splits=5, shuffle=True, random_state=241)\n",
    "clf = SVC(kernel='linear', random_state=241)\n",
    "gs = GridSearchCV(clf, grid, scoring='accuracy', cv=cv)\n",
    "gs.fit(X, y)\n",
    "\n",
    "print(1)\n",
    "\n",
    "print(gs.best_estimator_) \n",
    "\n",
    "clf2=SVC(kernel='linear',C=1.0, random_state=241)\n",
    "clf2.fit(X,y)\n",
    "\n",
    "print(2)\n"
   ]
  },
  {
   "cell_type": "code",
   "execution_count": 195,
   "metadata": {},
   "outputs": [
    {
     "data": {
      "text/plain": [
       "'atheism atheists bible god keith moon religion sci sky space'"
      ]
     },
     "execution_count": 195,
     "metadata": {},
     "output_type": "execute_result"
    }
   ],
   "source": [
    "coef = clf2.coef_\n",
    "\n",
    "q = pd.DataFrame(coef.toarray()).transpose()\n",
    "\n",
    "top10=abs(q).sort_values([0], ascending=False).head(10)\n",
    "\n",
    "feature_mapping=vectorizer.get_feature_names()\n",
    "\n",
    "words=[]\n",
    "\n",
    "for i in top10.index:\n",
    "    words.append(feature_mapping[i])\n",
    "\n",
    "sorted_words = sorted(words)\n",
    "\n",
    "a = ''\n",
    "\n",
    "for i in sorted_words:\n",
    "    a += i + ' '\n",
    "\n",
    "a.strip()"
   ]
  }
 ],
 "metadata": {
  "kernelspec": {
   "display_name": "Python 3",
   "language": "python",
   "name": "python3"
  },
  "language_info": {
   "codemirror_mode": {
    "name": "ipython",
    "version": 3
   },
   "file_extension": ".py",
   "mimetype": "text/x-python",
   "name": "python",
   "nbconvert_exporter": "python",
   "pygments_lexer": "ipython3",
   "version": "3.7.1"
  }
 },
 "nbformat": 4,
 "nbformat_minor": 2
}
