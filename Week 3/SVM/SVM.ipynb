{
 "cells": [
  {
   "cell_type": "code",
   "execution_count": 42,
   "metadata": {},
   "outputs": [
    {
     "name": "stdout",
     "output_type": "stream",
     "text": [
      "   target     x     y\n",
      "0     0.0  0.70  0.29\n",
      "1     1.0  0.23  0.55\n",
      "2     0.0  0.72  0.42\n",
      "3     0.0  0.98  0.68\n",
      "4     0.0  0.48  0.39\n",
      "5     1.0  0.34  0.73\n",
      "6     0.0  0.44  0.06\n",
      "7     1.0  0.40  0.74\n",
      "8     0.0  0.18  0.18\n",
      "9     1.0  0.53  0.53\n",
      "[ 4  5 10]\n"
     ]
    },
    {
     "data": {
      "text/plain": [
       "[]"
      ]
     },
     "execution_count": 42,
     "metadata": {},
     "output_type": "execute_result"
    },
    {
     "data": {
      "image/png": "[encoded data removed]",
      "text/plain": [
       "<Figure size 432x288 with 1 Axes>"
      ]
     },
     "metadata": {
      "needs_background": "light"
     },
     "output_type": "display_data"
    }
   ],
   "source": [
    "import numpy as np\n",
    "import pandas as pd\n",
    "from sklearn.svm import SVC\n",
    "import matplotlib.pyplot as plt\n",
    "\n",
    "data = pd.read_csv('svm-data.csv', names=['target', 'x', 'y'])\n",
    "\n",
    "X = data[['x', 'y']]\n",
    "y = data['target']\n",
    "\n",
    "data_blue = data[data['target'] == 0]\n",
    "data_red = data[data['target'] == 1]\n",
    "\n",
    "print(data)\n",
    "\n",
    "clf = SVC(C = 100000, kernel='linear', random_state=241)\n",
    "clf.fit(X,y)\n",
    "\n",
    "print(clf.support_+1)\n",
    "\n",
    "fig = plt.figure()\n",
    "# Добавление на рисунок прямоугольной (по умолчанию) области рисования\n",
    "ax = fig.add_axes([0, 0, 1, 1.3])\n",
    "plt.scatter(data_blue['x'], data_blue['y'])\n",
    "plt.scatter(data_red['x'], data_red['y'])\n",
    "\n",
    "plt.plot()"
   ]
  }
 ],
 "metadata": {
  "kernelspec": {
   "display_name": "Python 3",
   "language": "python",
   "name": "python3"
  },
  "language_info": {
   "codemirror_mode": {
    "name": "ipython",
    "version": 3
   },
   "file_extension": ".py",
   "mimetype": "text/x-python",
   "name": "python",
   "nbconvert_exporter": "python",
   "pygments_lexer": "ipython3",
   "version": "3.7.1"
  }
 },
 "nbformat": 4,
 "nbformat_minor": 2
}
