{
 "cells": [
  {
   "cell_type": "code",
   "execution_count": 84,
   "metadata": {},
   "outputs": [
    {
     "name": "stdout",
     "output_type": "stream",
     "text": [
      "43 34 59 64\n",
      "0.54 0.56 0.42 0.48\n",
      "0.72 0.71 0.64 0.69\n",
      "0.63 0.62 0.61 0.65\n"
     ]
    }
   ],
   "source": [
    "import pandas as pd\n",
    "import numpy as np\n",
    "from sklearn.metrics import accuracy_score\n",
    "from sklearn.metrics import precision_score\n",
    "from sklearn.metrics import recall_score\n",
    "from sklearn.metrics import f1_score\n",
    "from sklearn.metrics import roc_auc_score\n",
    "from sklearn.metrics import precision_recall_curve\n",
    "\n",
    "classification_data = pd.read_csv('classification.csv')\n",
    "scores_data = pd.read_csv('scores.csv')\n",
    "\n",
    "TP = len(classification_data[(classification_data['true'] == 1) & (classification_data['pred'] == 1)].index)\n",
    "FP = len(classification_data[(classification_data['true'] == 0) & (classification_data['pred'] == 1)].index)\n",
    "FN = len(classification_data[(classification_data['true'] == 1) & (classification_data['pred'] == 0)].index)\n",
    "TN = len(classification_data[(classification_data['true'] == 0) & (classification_data['pred'] == 0)].index)\n",
    "\n",
    "print(TP, FP, FN, TN)\n",
    "\n",
    "#Accuracy (доля верно угаданных) — sklearn.metrics.accuracy_score\n",
    "accuracy = round(accuracy_score(classification_data['true'], classification_data['pred']), 2)\n",
    "\n",
    "#Precision (точность) — sklearn.metrics.precision_score\n",
    "precision = round(precision_score(classification_data['true'], classification_data['pred']), 2)\n",
    "\n",
    "#Recall (полнота) — sklearn.metrics.recall_score\n",
    "recall = round(recall_score(classification_data['true'], classification_data['pred']), 2)\n",
    "\n",
    "#F-мера — sklearn.metrics.f1_score\n",
    "f1 = round(f1_score(classification_data['true'], classification_data['pred']), 2)\n",
    "\n",
    "print(accuracy, precision, recall, f1)\n",
    "\n",
    "score_logreg = round(roc_auc_score(scores_data['true'], scores_data['score_logreg']), 2)\n",
    "score_svm = round(roc_auc_score(scores_data['true'], scores_data['score_svm']), 2)\n",
    "score_knn = round(roc_auc_score(scores_data['true'], scores_data['score_knn']), 2)\n",
    "score_tree = round(roc_auc_score(scores_data['true'], scores_data['score_tree']), 2)\n",
    "\n",
    "print(score_logreg, score_svm, score_knn, score_tree)\n",
    "\n",
    "pr_logreg = precision_recall_curve(scores_data['true'], scores_data['score_logreg'])\n",
    "df_logreg = pd.DataFrame({'precision': pr_logreg[0], 'recall': pr_logreg[1]}, columns = ['precision', 'recall'])\n",
    "max_precision_logreg = round(df_logreg[df_logreg['recall'] >= 0.7]['precision'].max(), 2)\n",
    "\n",
    "pr_svm = precision_recall_curve(scores_data['true'], scores_data['score_svm'])\n",
    "df_svm = pd.DataFrame({'precision': pr_svm[0], 'recall': pr_svm[1]}, columns = ['precision', 'recall'])\n",
    "max_precision_svm = round(df_svm[df_svm['recall'] >= 0.7]['precision'].max(), 2)\n",
    "\n",
    "pr_knn = precision_recall_curve(scores_data['true'], scores_data['score_knn'])\n",
    "df_knn = pd.DataFrame({'precision': pr_knn[0], 'recall': pr_knn[1]}, columns = ['precision', 'recall'])\n",
    "max_precision_knn = round(df_knn[df_knn['recall'] >= 0.7]['precision'].max(), 2)\n",
    "\n",
    "pr_tree = precision_recall_curve(scores_data['true'], scores_data['score_tree'])\n",
    "df_tree = pd.DataFrame({'precision': pr_tree[0], 'recall': pr_tree[1]}, columns = ['precision', 'recall'])\n",
    "max_precision_tree = round(df_tree[df_tree['recall'] >= 0.7]['precision'].max(), 2)\n",
    "\n",
    "print(max_precision_logreg, max_precision_svm, max_precision_knn, max_precision_tree)\n"
   ]
  }
 ],
 "metadata": {
  "kernelspec": {
   "display_name": "Python 3",
   "language": "python",
   "name": "python3"
  },
  "language_info": {
   "codemirror_mode": {
    "name": "ipython",
    "version": 3
   },
   "file_extension": ".py",
   "mimetype": "text/x-python",
   "name": "python",
   "nbconvert_exporter": "python",
   "pygments_lexer": "ipython3",
   "version": "3.7.1"
  }
 },
 "nbformat": 4,
 "nbformat_minor": 2
}
