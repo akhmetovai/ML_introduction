{
 "cells": [
  {
   "cell_type": "code",
   "execution_count": 17,
   "metadata": {},
   "outputs": [
    {
     "name": "stdout",
     "output_type": "stream",
     "text": [
      "accuracy for test without scale is equal 0.655\n",
      "accuracy for test with scale is equal 0.845\n",
      "difference between train and test is equal 0.19\n"
     ]
    },
    {
     "name": "stderr",
     "output_type": "stream",
     "text": [
      "C:\\Users\\aidar.ahmetov\\AppData\\Local\\Continuum\\anaconda3\\lib\\site-packages\\sklearn\\linear_model\\stochastic_gradient.py:166: FutureWarning: max_iter and tol parameters have been added in Perceptron in 0.19. If both are left unset, they default to max_iter=5 and tol=None. If tol is not None, max_iter defaults to max_iter=1000. From 0.21, default max_iter will be 1000, and default tol will be 1e-3.\n",
      "  FutureWarning)\n",
      "C:\\Users\\aidar.ahmetov\\AppData\\Local\\Continuum\\anaconda3\\lib\\site-packages\\sklearn\\linear_model\\stochastic_gradient.py:166: FutureWarning: max_iter and tol parameters have been added in Perceptron in 0.19. If both are left unset, they default to max_iter=5 and tol=None. If tol is not None, max_iter defaults to max_iter=1000. From 0.21, default max_iter will be 1000, and default tol will be 1e-3.\n",
      "  FutureWarning)\n"
     ]
    }
   ],
   "source": [
    "import numpy as np\n",
    "import pandas as pd\n",
    "from sklearn.linear_model import Perceptron\n",
    "from sklearn.metrics import accuracy_score\n",
    "from sklearn.preprocessing import StandardScaler\n",
    "\n",
    "train = pd.read_csv('perceptron-train.csv', names = ['target', 'a', 'b'])\n",
    "test = pd.read_csv('perceptron-test.csv', names = ['target', 'a', 'b'])\n",
    "\n",
    "X_train = np.array(train[['a', 'b']])\n",
    "y_train = np.array(train['target'])\n",
    "\n",
    "X_test = np.array(test[['a', 'b']])\n",
    "y_test = np.array(test['target'])\n",
    "\n",
    "clf = Perceptron(random_state=241)\n",
    "clf.fit(X_train, y_train)\n",
    "\n",
    "predictions_test = clf.predict(X_test)\n",
    "\n",
    "s = accuracy_score(y_test, predictions_test)\n",
    "\n",
    "print('accuracy for test without scale is equal {s}'.format(s=s))\n",
    "\n",
    "scaler = StandardScaler()\n",
    "X_train_scaled = scaler.fit_transform(X_train)\n",
    "X_test_scaled = scaler.transform(X_test)\n",
    "\n",
    "clf_scaled = Perceptron(random_state=241)\n",
    "clf_scaled.fit(X_train_scaled, y_train)\n",
    "\n",
    "predictions_test_scaled = clf_scaled.predict(X_test_scaled)\n",
    "\n",
    "s_scaled = accuracy_score(y_test, predictions_test_scaled)\n",
    "\n",
    "print('accuracy for test with scale is equal {s}'.format(s=s_scaled))\n",
    "\n",
    "s_diff = round(np.abs(s-s_scaled), 3)\n",
    "\n",
    "print('difference between train and test is equal {s}'.format(s=s_diff))"
   ]
  }
 ],
 "metadata": {
  "kernelspec": {
   "display_name": "Python 3",
   "language": "python",
   "name": "python3"
  },
  "language_info": {
   "codemirror_mode": {
    "name": "ipython",
    "version": 3
   },
   "file_extension": ".py",
   "mimetype": "text/x-python",
   "name": "python",
   "nbconvert_exporter": "python",
   "pygments_lexer": "ipython3",
   "version": "3.7.1"
  }
 },
 "nbformat": 4,
 "nbformat_minor": 2
}
