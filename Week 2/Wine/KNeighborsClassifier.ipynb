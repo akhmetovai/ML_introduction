{
 "cells": [
  {
   "cell_type": "code",
   "execution_count": 154,
   "metadata": {},
   "outputs": [
    {
     "name": "stdout",
     "output_type": "stream",
     "text": [
      "max non-normilized result is 0.73 with 1 neighbors\n",
      "max normilized result is 0.98 with 29 neighbors\n"
     ]
    }
   ],
   "source": [
    "import pandas as pd\n",
    "import numpy as np\n",
    "from sklearn.neighbors import KNeighborsClassifier\n",
    "from sklearn.model_selection import KFold\n",
    "from sklearn.model_selection import cross_val_score\n",
    "from sklearn.preprocessing import scale\n",
    "\n",
    "data = pd.read_csv('wine_data.csv')\n",
    "\n",
    "X = np.array(data.iloc[:,1:].copy())\n",
    "y = np.array(data['Sort'].copy())\n",
    "\n",
    "#print(X, y)\n",
    "\n",
    "#5 рандомных разбиений на train и test\n",
    "kf = KFold(n_splits=5, random_state=42, shuffle=True)\n",
    "\n",
    "#list(kf.split(X))\n",
    "\n",
    "#for train_index, test_index in kf.split(X):\n",
    "#    print(\"TRAIN:\", train_index, \"TEST:\", test_index)\n",
    "#    X_train, X_test = X[train_index], X[test_index]\n",
    "#    y_train, y_test = y[train_index], y[test_index]\n",
    "\n",
    "max_res = 0\n",
    "max_index = 0\n",
    "\n",
    "for i in range(1,51):\n",
    "    clf = KNeighborsClassifier(n_neighbors=i)\n",
    "    clf.fit(X,y)\n",
    "    s = cross_val_score(clf, X, y, cv=kf).mean()\n",
    "    if s > max_res:\n",
    "        max_res = s\n",
    "        max_index = i\n",
    "\n",
    "print('max non-normilized result is {s} with {i} neighbors'.format(i=max_index, s=round(max_res, 2)))\n",
    "\n",
    "Xn = scale(X)\n",
    "\n",
    "max_res = 0\n",
    "max_index = 0\n",
    "\n",
    "for i in range(1,51):\n",
    "    clfn = KNeighborsClassifier(n_neighbors=i)\n",
    "    clfn.fit(Xn,y)\n",
    "    s=cross_val_score(clfn, Xn, y, cv=kf).mean()\n",
    "    if s > max_res:\n",
    "        max_index = i\n",
    "        max_res = s\n",
    "\n",
    "print('max normilized result is {s} with {i} neighbors'.format(i=max_index, s=round(max_res, 2)))\n"
   ]
  }
 ],
 "metadata": {
  "kernelspec": {
   "display_name": "Python 3",
   "language": "python",
   "name": "python3"
  },
  "language_info": {
   "codemirror_mode": {
    "name": "ipython",
    "version": 3
   },
   "file_extension": ".py",
   "mimetype": "text/x-python",
   "name": "python",
   "nbconvert_exporter": "python",
   "pygments_lexer": "ipython3",
   "version": "3.7.1"
  }
 },
 "nbformat": 4,
 "nbformat_minor": 2
}
