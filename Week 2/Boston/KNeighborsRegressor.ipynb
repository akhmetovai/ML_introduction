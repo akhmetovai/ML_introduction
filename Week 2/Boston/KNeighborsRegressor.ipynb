{
 "cells": [
  {
   "cell_type": "code",
   "execution_count": 37,
   "metadata": {},
   "outputs": [
    {
     "name": "stdout",
     "output_type": "stream",
     "text": [
      "max result is -16.0 with p=1.0\n"
     ]
    }
   ],
   "source": [
    "import pandas as pd\n",
    "import numpy as np\n",
    "from sklearn.neighbors import KNeighborsRegressor\n",
    "from sklearn import datasets\n",
    "from sklearn.preprocessing import scale\n",
    "from sklearn.model_selection import KFold\n",
    "from sklearn.model_selection import cross_val_score\n",
    "\n",
    "X = scale(datasets.load_boston()['data'])\n",
    "y = datasets.load_boston()['target']\n",
    "\n",
    "kf = KFold(n_splits=5, random_state=42, shuffle=True)\n",
    "\n",
    "max_res = float('-inf')\n",
    "max_p = 1\n",
    "\n",
    "for l in np.linspace(start=1, stop=10, num=200):\n",
    "    clf = KNeighborsRegressor(n_neighbors=5, weights='distance', p=l, metric='minkowski')\n",
    "    s = cross_val_score(clf, X, y, scoring='neg_mean_squared_error', cv=kf).mean()\n",
    "    #print(s)\n",
    "    if s > max_res:\n",
    "        max_res = s\n",
    "        max_p = l\n",
    "\n",
    "print('max result is {s} with p={p}'.format(p=max_p, s=round(max_res, 1)))"
   ]
  }
 ],
 "metadata": {
  "kernelspec": {
   "display_name": "Python 3",
   "language": "python",
   "name": "python3"
  },
  "language_info": {
   "codemirror_mode": {
    "name": "ipython",
    "version": 3
   },
   "file_extension": ".py",
   "mimetype": "text/x-python",
   "name": "python",
   "nbconvert_exporter": "python",
   "pygments_lexer": "ipython3",
   "version": "3.7.1"
  }
 },
 "nbformat": 4,
 "nbformat_minor": 2
}
