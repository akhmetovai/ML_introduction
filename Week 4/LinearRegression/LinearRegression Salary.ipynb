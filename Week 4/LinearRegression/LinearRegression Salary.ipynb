{
 "cells": [
  {
   "cell_type": "code",
   "execution_count": 46,
   "metadata": {},
   "outputs": [
    {
     "name": "stdout",
     "output_type": "stream",
     "text": [
      "[56557.44 37205.61]\n"
     ]
    }
   ],
   "source": [
    "import numpy as np\n",
    "import pandas as pd\n",
    "from sklearn.feature_extraction import DictVectorizer\n",
    "from sklearn.feature_extraction.text import TfidfVectorizer\n",
    "from sklearn.linear_model import Ridge\n",
    "from scipy.sparse import hstack\n",
    "\n",
    "# 1. upload data\n",
    "data_train = pd.read_csv('salary-train.csv')\n",
    "data_test = pd.read_csv('salary-test-mini.csv')\n",
    "\n",
    "# 2.1 change job descriptions to lowercase\n",
    "data_train['FullDescription'] = data_train['FullDescription'].str.lower()\n",
    "data_test['FullDescription'] = data_test['FullDescription'].str.lower()\n",
    "\n",
    "# 2.2 replace special symbols in job descriptions to spacebar\n",
    "data_train['FullDescription'] = data_train['FullDescription'].replace('[^a-zA-Z0-9]', ' ', regex = True)\n",
    "data_test['FullDescription'] = data_test['FullDescription'].replace('[^a-zA-Z0-9]', ' ', regex = True)\n",
    "\n",
    "# 2.3 TfidfVectorizer, and clear data, we leave just 5 top words in all text's set\n",
    "vectorizer = TfidfVectorizer(min_df=5)\n",
    "X_train_vect = vectorizer.fit_transform(data_train['FullDescription'])\n",
    "X_test_vect = vectorizer.transform(data_test['FullDescription'])\n",
    "\n",
    "# 2.4 replace NaN value to string 'nan'\n",
    "data_train['LocationNormalized'].fillna('nan', inplace=True)\n",
    "data_train['ContractTime'].fillna('nan', inplace=True)\n",
    "\n",
    "# 2.5 next, we use DictVectorizer to define categories's strings like an integer, result will be a dict\n",
    "enc = DictVectorizer()\n",
    "X_train_categ = enc.fit_transform(data_train[['LocationNormalized', 'ContractTime']].to_dict('records'))\n",
    "X_test_categ = enc.transform(data_test[['LocationNormalized', 'ContractTime']].to_dict('records'))\n",
    "\n",
    "# 2.6 union calculated attributes, note that we created sparse matrices\n",
    "X_train = hstack([X_train_vect, X_train_categ])\n",
    "X_test = hstack([X_test_vect, X_test_categ])\n",
    "y_train = data_train['SalaryNormalized']\n",
    "\n",
    "# 3. Ridge\n",
    "\n",
    "clf = Ridge(alpha=1.0)\n",
    "clf.fit(X_train, y_train)\n",
    "\n",
    "# 4. Result\n",
    "\n",
    "y_test = clf.predict(X_test)\n",
    "print(np.round(y_test,2))"
   ]
  }
 ],
 "metadata": {
  "kernelspec": {
   "display_name": "Python 3",
   "language": "python",
   "name": "python3"
  },
  "language_info": {
   "codemirror_mode": {
    "name": "ipython",
    "version": 3
   },
   "file_extension": ".py",
   "mimetype": "text/x-python",
   "name": "python",
   "nbconvert_exporter": "python",
   "pygments_lexer": "ipython3",
   "version": "3.7.1"
  }
 },
 "nbformat": 4,
 "nbformat_minor": 2
}
