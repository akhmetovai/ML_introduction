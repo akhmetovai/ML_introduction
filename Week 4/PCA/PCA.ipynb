{
 "cells": [
  {
   "cell_type": "code",
   "execution_count": 114,
   "metadata": {},
   "outputs": [
    {
     "name": "stdout",
     "output_type": "stream",
     "text": [
      "[0.73897118 0.11007169 0.04995088 0.0287492  0.02215448 0.01931577\n",
      " 0.00674853 0.00614091 0.00320594 0.00305611]\n",
      "0.91\n",
      "0.579683945747361\n",
      "[ 1.61383840e-02  1.20644923e-01 -5.16612711e-02  5.04842369e-02\n",
      " -1.25859933e-01  1.14089567e-01  2.33906290e-01 -6.20513749e-03\n",
      "  2.51227032e-01  2.88996029e-01 -2.64998795e-01  9.31320168e-02\n",
      "  9.13948403e-02  4.69879340e-02  2.90549417e-02 -2.61068828e-02\n",
      "  3.29615584e-01  7.13897133e-02  7.62295699e-02  2.11888868e-01\n",
      "  2.30922941e-02  7.77316954e-02 -7.20594590e-03  1.89479745e-01\n",
      "  3.21564017e-01  5.36834873e-02  5.79683946e-01  1.09122230e-04\n",
      "  8.71614334e-02 -4.29421420e-02]\n",
      "V\n"
     ]
    }
   ],
   "source": [
    "import numpy as np\n",
    "import pandas as pd\n",
    "from sklearn.decomposition import PCA\n",
    "\n",
    "# 1. upload data\n",
    "data = pd.read_csv('close_prices.csv')\n",
    "dow_jones = pd.read_csv('djia_index.csv')\n",
    "\n",
    "X = data.loc[:, 'AXP':].copy()\n",
    "\n",
    "# 2. fit PCA\n",
    "\n",
    "pca = PCA(n_components=10)\n",
    "pca.fit(X)\n",
    "X_new = pca.transform(X)\n",
    "\n",
    "#answer 1:\n",
    "print(pca.explained_variance_ratio_)\n",
    "\n",
    "#answer 2:\n",
    "X_new_main = []\n",
    "\n",
    "for i in X_new:\n",
    "    X_new_main.append(i[0])\n",
    "    \n",
    "corr = np.corrcoef(X_new_main, dow_jones['^DJI'])\n",
    "print(round(corr.item(1),2))\n",
    "    \n",
    "#answer 3:\n",
    "print(pca.components_[0].max())\n",
    "print(pca.components_[0])#27 компания вносит наибольший вклад\n",
    "print(data.columns[27])"
   ]
  }
 ],
 "metadata": {
  "kernelspec": {
   "display_name": "Python 3",
   "language": "python",
   "name": "python3"
  },
  "language_info": {
   "codemirror_mode": {
    "name": "ipython",
    "version": 3
   },
   "file_extension": ".py",
   "mimetype": "text/x-python",
   "name": "python",
   "nbconvert_exporter": "python",
   "pygments_lexer": "ipython3",
   "version": "3.7.1"
  }
 },
 "nbformat": 4,
 "nbformat_minor": 2
}
