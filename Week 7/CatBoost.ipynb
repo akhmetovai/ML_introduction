{
  "nbformat": 4,
  "nbformat_minor": 0,
  "metadata": {
    "colab": {
      "name": "CatBoost.ipynb",
      "version": "0.3.2",
      "provenance": []
    },
    "kernelspec": {
      "name": "python3",
      "display_name": "Python 3"
    }
  },
  "cells": [
    {
      "metadata": {
        "id": "o8SZqOPgzDsq",
        "colab_type": "code",
        "colab": {
          "base_uri": "https://localhost:8080/",
          "height": 51
        },
        "outputId": "09d46d86-49a1-4de1-cd19-b4e80cc0b0cb"
      },
      "cell_type": "code",
      "source": [
        "#Попробуем catboost от Яндекса\n",
        "#!pip install catboost\n",
        "\n",
        "import numpy as np\n",
        "import pandas as pd\n",
        "import datetime\n",
        "import time\n",
        "from sklearn.model_selection import cross_val_score\n",
        "from sklearn.model_selection import KFold\n",
        "from catboost import CatBoostClassifier, Pool\n",
        "\n",
        "start_time = datetime.datetime.now()\n",
        "\n",
        "# 1. Загрузим данные: в X_train запишем признаки, не связанные с итогами матча, в y_train - исходы матчей\n",
        "data = pd.read_csv('./features.csv', index_col='match_id')\n",
        "X_train = pd.DataFrame(data.loc[:, 'start_time':'dire_first_ward_time'])\n",
        "y_train = pd.DataFrame(data['radiant_win'])\n",
        "X_test = pd.read_csv('./features_test.csv', index_col='match_id')\n",
        "\n",
        "# 2. Заполним нулями NaN значения\n",
        "X_train = X_train.fillna(0)\n",
        "X_test = X_test.fillna(0)\n",
        "\n",
        "# 3. Выберем разбиение, обучим классификатор и проверим качество на кросс-валидации\n",
        "kf = KFold(n_splits=5, random_state=42, shuffle=True)\n",
        "model = CatBoostClassifier(iterations=30,depth=7,learning_rate=0.3,loss_function='Logloss',verbose=False)\n",
        "model.fit(X_train, y_train)\n",
        "c_v = cross_val_score(model, X_train, y_train, cv=kf, scoring='roc_auc')\n",
        "\n",
        "print ('Time elapsed:', datetime.datetime.now() - start_time)\n",
        "# Time elapsed: 0:00:37.657576\n",
        "print('Score = {c}'.format(c = round(c_v.mean(), 6)))\n",
        "# Score = 0.707165\n",
        "\n",
        "#pred = model.predict_proba(X_test)"
      ],
      "execution_count": 24,
      "outputs": [
        {
          "output_type": "stream",
          "text": [
            "Time elapsed: 0:00:37.657576\n",
            "Score = 0.707165\n"
          ],
          "name": "stdout"
        }
      ]
    }
  ]
}