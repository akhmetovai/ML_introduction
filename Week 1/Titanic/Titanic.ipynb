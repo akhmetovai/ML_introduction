{
 "cells": [
  {
   "cell_type": "code",
   "execution_count": 139,
   "metadata": {
    "scrolled": true
   },
   "outputs": [
    {
     "data": {
      "text/plain": [
       "3    0.551066\n",
       "1    0.242424\n",
       "2    0.206510\n",
       "Name: Pclass, dtype: float64"
      ]
     },
     "execution_count": 139,
     "metadata": {},
     "output_type": "execute_result"
    }
   ],
   "source": [
    "import pandas as pd\n",
    "import operator\n",
    "\n",
    "data = pd.read_csv('titanic.csv', index_col='PassengerId')\n",
    "\n",
    "data.head(20)\n",
    "\n",
    "#1 задание\n",
    "#data['Sex'].value_counts()\n",
    "\n",
    "#2 задание\n",
    "#data['Survived'].value_counts(normalize=True)\n",
    "\n",
    "#3 задание\n",
    "data['Pclass'].value_counts(normalize=True)\n",
    "\n",
    "#4 задание\n",
    "#round(data['Age'].mean(), 2) #29.7\n",
    "#round(data['Age'].median(), 2) #28.0\n",
    "\n",
    "#5 задание SibSp Parch\n",
    "#data[['SibSp','Parch']].corr() #0.41\n",
    "\n",
    "#6 задание\n",
    "#data[data.Sex == 'female']['Name']\n",
    "\n",
    "#i = 0\n",
    "#res = data['Name'].get_values()\n",
    "#list_name = []\n",
    "#for name_row in res:\n",
    "#    is_woman = (\"Miss.\" in name_row) or (\"Mrs.\" in name_row)\n",
    "#    if is_woman:\n",
    "#        index_brace = name_row.find(\"(\")\n",
    "#        if index_brace != -1:\n",
    "#            name_row = name_row[index_brace + 1:]\n",
    "#            index_space = name_row.find(\" \")\n",
    "#            name_row = name_row[:index_space]\n",
    "#            list_name.append(name_row)\n",
    "#        else:\n",
    "#            index_point = name_row.find(\".\")\n",
    "#            name_row = name_row[index_point + 2:]\n",
    "#            index_space = name_row.find(\" \")\n",
    "#            name_row = name_row[:index_space]\n",
    "#            list_name.append(name_row)\n",
    "#        # print(name_row)\n",
    "#        i += 1\n",
    "#        # print(res)\n",
    "#print(list_name)\n",
    "#dict_name = {}\n",
    "#dict_name[\"olo\"] = 2\n",
    "#a = dict_name.get(\"olo\")\n",
    "#for name in list_name:\n",
    "#    value = dict_name.get(name)\n",
    "#    if value is None:\n",
    "#        dict_name[name] = 1\n",
    "#    else:\n",
    "#        dict_name[name] = value + 1\n",
    "#sorted_x = sorted(dict_name.items(), key=operator.itemgetter(1))\n",
    "#print(sorted_x)"
   ]
  }
 ],
 "metadata": {
  "kernelspec": {
   "display_name": "Python 3",
   "language": "python",
   "name": "python3"
  },
  "language_info": {
   "codemirror_mode": {
    "name": "ipython",
    "version": 3
   },
   "file_extension": ".py",
   "mimetype": "text/x-python",
   "name": "python",
   "nbconvert_exporter": "python",
   "pygments_lexer": "ipython3",
   "version": "3.7.1"
  }
 },
 "nbformat": 4,
 "nbformat_minor": 2
}
