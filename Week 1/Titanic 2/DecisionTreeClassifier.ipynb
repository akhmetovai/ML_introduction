{
 "cells": [
  {
   "cell_type": "code",
   "execution_count": 85,
   "metadata": {},
   "outputs": [
    {
     "name": "stdout",
     "output_type": "stream",
     "text": [
      "[0.14751816 0.29538468 0.25658495 0.30051221]\n"
     ]
    }
   ],
   "source": [
    "import pandas as pd\n",
    "import numpy as np\n",
    "from sklearn.tree import DecisionTreeClassifier\n",
    "\n",
    "data = pd.read_csv('titanic.csv', index_col='PassengerId')\n",
    "\n",
    "data['Sex'] = data['Sex'].map({'female': 1, 'male': 0})\n",
    "\n",
    "clrData = data[['Survived','Pclass', 'Fare', 'Age', 'Sex']].dropna(axis=0)\n",
    "\n",
    "X = np.array(clrData[['Pclass', 'Fare', 'Age', 'Sex']])\n",
    "y = np.array(clrData['Survived'])\n",
    "\n",
    "clf = DecisionTreeClassifier(n_neighbors=1)\n",
    "clf.fit(X,y)\n",
    "\n",
    "importances = clf.feature_importances_\n",
    "\n",
    "#print(clrData)\n",
    "print(importances)"
   ]
  }
 ],
 "metadata": {
  "kernelspec": {
   "display_name": "Python 3",
   "language": "python",
   "name": "python3"
  },
  "language_info": {
   "codemirror_mode": {
    "name": "ipython",
    "version": 3
   },
   "file_extension": ".py",
   "mimetype": "text/x-python",
   "name": "python",
   "nbconvert_exporter": "python",
   "pygments_lexer": "ipython3",
   "version": "3.7.1"
  }
 },
 "nbformat": 4,
 "nbformat_minor": 2
}
